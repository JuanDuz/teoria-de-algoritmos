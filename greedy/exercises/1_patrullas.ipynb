{
 "cells": [
  {
   "cell_type": "markdown",
   "source": [
    "Una ruta tiene un conjunto de bifurcaciones para acceder a diferentes pueblos. El listado (ordenado por nombre del pueblo) contiene el número de kilómetros donde está ubicada cada una. Se desea ubicar la menor cantidad de patrullas policiales (en las bifurcaciones) de tal forma que no haya bifurcaciones con vigilancia a más de 50 km. Proponer un algoritmo que lo resuelva. \n",
    "\n",
    "Ejemplo (ciudad,Bifurcación): (Castelli, 185), (Gral Guido, 249), (Lezama 156), (Maipu, 270), (Sevigne, 194).\tSi incluimos un patrullero en la bifurcación de Lezama, cubre además de esta a Castelli y Sevigne. Pero no Gral Guido y Maipú. Se necesitaría en ese caso, ubicar otro. Al agregar otro patrullero en Gral Guido, se cubren todas las ciudades restantes. Con 2 móviles policiales en bifurcaciones se cubren todas los accesos a todas las ciudades con distancia menor a 50km.\n"
   ],
   "metadata": {
    "collapsed": false
   },
   "id": "fe5b17366f2b4360"
  },
  {
   "cell_type": "markdown",
   "source": [
    "# Solucion (Pseudocodigo)"
   ],
   "metadata": {
    "collapsed": false
   },
   "id": "4b1d77e0b616cd9a"
  },
  {
   "cell_type": "markdown",
   "source": [
    "```\n",
    "Sea P los pueblos\n",
    "Sea vigilados los pueblos cubiertos por el rango de alguna patrulla\n",
    "Sea PCP los pueblos con patrulla\n",
    "Ordeno P de menor p.bifurcacion a mayor\n",
    "Por cada p en P:\n",
    "   Si p no esta en vigilados:\n",
    "        posible_pcp := p\n",
    "        agrego p a vigilados\n",
    "        por cada j en P arrancando desde el siguiente a p:\n",
    "        Si (j.bifuracion - p.bifurcacion) <= 50:\n",
    "            agrego j a vigilados\n",
    "            posible_pcp := j\n",
    "        Si no break (ya que estan en orden, los demas tampoco cumpliran)\n",
    "   agrego j a PCP\n",
    "retorno PCP\n",
    "```"
   ],
   "metadata": {
    "collapsed": false
   },
   "id": "eb66bf6064c0f42c"
  },
  {
   "cell_type": "markdown",
   "source": [
    "# Complejidad temporal:"
   ],
   "metadata": {
    "collapsed": false
   },
   "id": "dca339eac6619c70"
  },
  {
   "cell_type": "markdown",
   "source": [
    "Ordenar -> 0(n log n)\n",
    "Iteraciones -> En el peor de los casos se recorre 2 veces los pueblos 0(2n)\n",
    "Operaciones -> Operaciones dentro de las iteraciones 0(1)\n",
    "\n",
    "=> O(2n + n log n) => O(n log n) predomina"
   ],
   "metadata": {
    "collapsed": false
   },
   "id": "fd6d7b8a27170dab"
  },
  {
   "cell_type": "markdown",
   "source": [
    "# Justificacion de optimalidad:"
   ],
   "metadata": {
    "collapsed": false
   },
   "id": "6044c0962da14bae"
  },
  {
   "cell_type": "markdown",
   "source": [
    "Sea A el set de pueblos con patrulla devuelto por el algoritmo.\n",
    "Sea O el set optimo de pueblos con patrulla.\n",
    "Tengo que demostrar |A| = |O|, es decir que la cantidad de pueblos con patrullas en el set A es igual a la cantidad de patrullas en el set O y por ende es tambien una solucion optima.\n",
    "La idea es que este algoritmo se 'mantiene adelante' a la solucion O, ya que en cada paso hace la mejor solucion.\n",
    "\n",
    "Sea ai = (a1,...,ak) el set A de pueblos donde se puso patrulla (ordenados en el orden que se agregaron a A). |A| = k\n",
    "Sea oi = (o1,...,om) el set 0 optimo de pueblos donde se puso patrulla. |O| = m\n",
    "El objetivo es probar k = m.\n",
    "Asumamos que O tambien esta ordenado de menor numero de km a mayor.\n",
    "La intuicion greedy viene de poner cada patrulla lo mas lejos que siga cubriendo el primer pueblo en orden de km aun no cubierto.\n",
    "Por lo que km(ai) >= km(oi). (Por que no hay posibilidad de que oi este mas lejos en km, dado que si no no estaria cubriendo al primer pueblo aun no cubierto y por ende no seria O optimo).\n",
    "Por lo que si cada km(ai) >= km(oi) => A llegara a cubrir antes o igual la totalidad de pueblos y por ende k <= m. Por lo que A requiere menos o igual de patrullas que el Optimo. "
   ],
   "metadata": {
    "collapsed": false
   },
   "id": "e1c5ba51c5e2bf66"
  },
  {
   "cell_type": "markdown",
   "source": [
    "# Justificacion pertenencia a la metodología greedy:"
   ],
   "metadata": {
    "collapsed": false
   },
   "id": "fe7dcf46ed115254"
  },
  {
   "cell_type": "markdown",
   "source": [
    "En cada pueblo no vigilado (cada paso) que revisamos, tratamos de poner la patrulla que mas pueblos cubra ademas del actual. (En cada decision busco maximizar la desicion local, en busqueda de que lleve a la maximisacion global)"
   ],
   "metadata": {
    "collapsed": false
   },
   "id": "370ec76cc1174ab7"
  },
  {
   "cell_type": "code",
   "execution_count": null,
   "id": "initial_id",
   "metadata": {
    "collapsed": true
   },
   "outputs": [],
   "source": []
  },
  {
   "cell_type": "markdown",
   "source": [],
   "metadata": {
    "collapsed": false
   },
   "id": "be7787c8c8f8698d"
  }
 ],
 "metadata": {
  "kernelspec": {
   "display_name": "Python 3",
   "language": "python",
   "name": "python3"
  },
  "language_info": {
   "codemirror_mode": {
    "name": "ipython",
    "version": 2
   },
   "file_extension": ".py",
   "mimetype": "text/x-python",
   "name": "python",
   "nbconvert_exporter": "python",
   "pygments_lexer": "ipython2",
   "version": "2.7.6"
  }
 },
 "nbformat": 4,
 "nbformat_minor": 5
}
