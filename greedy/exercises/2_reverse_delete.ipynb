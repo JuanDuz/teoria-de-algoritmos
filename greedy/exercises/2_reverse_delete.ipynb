{
 "cells": [
  {
   "cell_type": "markdown",
   "source": [
    "Conocemos al algoritmo de Kruskal y Prim sobre un grafo conexo y ponderado para  obtener su árbol recubridor mínimo. Analice la siguiente estrategia de resolución y determine si corresponde a un algoritmo óptimo. Si lo es, detalle con qué estructuras lo implementaría de la forma más eficiente posible.\n",
    "\n",
    "\n",
    "```\n",
    "Iniciar con el grafo completo\n",
    "Mientras existan ciclos en el grafo\n",
    "    Obtener la arista de mayor peso cuya remoción mantenga la conectividad del grafo\n",
    "    Eliminar la arista seleccionada.\n",
    "```\n"
   ],
   "metadata": {
    "collapsed": false
   },
   "id": "494c463631724d52"
  },
  {
   "cell_type": "markdown",
   "source": [
    "Si pertenece a un algoritmo optimo, este algoritmo es conocido como 'reverse delete algorithm' Ya que es una version en reversa del de kruskal. \n",
    "\n",
    "# Justificacion optimalidad \n",
    "Sea C un ciclo cualquiera en G y e=(v,w) la arista mas costos perteneciente a C.\n",
    "Entonces e no pertenece a ningun arbol recubridor minimo.\n",
    "\n",
    "\n",
    "## Prueba:\n",
    "\n",
    "Asumiendo que todos los ejes son distintos:\n",
    "\n",
    "Llamemos **propiedad de cliclo** a :\n",
    "\n",
    "\n",
    "Sea T el arbol recubridor minimo que contiene a e, tenemos que mostrar que T no tiene el costo minimo posible. Con analogia a la propiedad de corte, lo haremos con un intercambio de argumento.\n",
    "Cambiando e por una arista menos costoso de manera tal que seguimos teniendo un arbol recubridor minimo.\n",
    "Entonces como encuentro una arista menos costosa que pueda ser intercambiada con e?\n",
    "Borremos e de T, esto particiona los nodos en dos componentes: S conteniendo el nodo v, y V - S conteniendo w.\n",
    "Ahora el arista que usemos en lugar de e tiene que tener un fin en S y uno en V - S, para seguir recubriendo el arbol.\n",
    "Podemos encontrar dicha arista recorriendo el ciclo C, las aristas de C, sin e, forman un camino P con un fin en v y otro en w. Si seguimos P de v a w, empezamos en S y terminamos en S - V.\n",
    "Ahora consideremos el set de nodos T' = T - {e} U {e'}.\n",
    "Argumentando como en la propiedad de corte, el grafo (V, T') esta conectado y no tiene ciclos, entonces T' es un arbol recubridor minimo del grafo G. Ademas, ya que e es la arista mas costosa en el ciclo C, y e' pertenece a C, entonces e' debe ser mas barato que e, y por lo tanto T' mas barato que T.\n",
    "\n",
    "Ahora con la **propiedad de ciclo** probemos que el algoritmo 'reverse delete' produce un arbol recubridor minimo de G.\n",
    "\n",
    "Consideremos una arista cualquiera e=(v,w) removida por el 'reverse delete' En el momento que e fue removida, estaba en un ciclo, y como fue la primera arista encontrada por el algoritmo es la arista mas costosa en C. Entonces por **propiedad de ciclo** e no pertenece a **ningun** arbol recubridor minimo.\n",
    "\n",
    "Por lo que si demostramos que el output (V, T) del 'reverse delete' es un arbol recubridor de G, habremos terminado.\n",
    "Claramente (V, T) esta conectado, ya que el algoritmo nunca remueve una arista si eso desconectase el grafo. Ahora, supongamos por contradiccion que (V, T) contiene un ciclo C. Consideremos la arista mas costosa e en C, la cual deberia ser la primera encontrada por el algoritmo. Esta arista deberia haber sido removida, y como removerla no desconecta el grafo, esto contradice el comportamiento de 'reverse delete'\n",
    "\n",
    "\n",
    "## Generalizando\n",
    "\n",
    "La combinacion de la **Propiedad de corte** y la **Propiedad de ciclo** implica que Cualquier algoritmo que construya un arbol recubridor mediante repetidamente incluir aristas cuando esta justificado por la **Propiedad de corte** o eliminarlas cuando esta justificado por la **Propiedad de ciclo** (en cualquiera sea el orden) termina con un arbol recubridor minimo. Y esto explica por que hay tantos algoritmos greedy para este problema que producen el optimo.\n",
    "\n",
    "## Cuando los costos de los ejes pueden ser iguales\n",
    "\n",
    "Hasta ahora asumimos que los costos de los ejes eran distintos.\n",
    "Esto se resuelve simple, tomamos el grafo y perturbamos todas las aristas por diferentes y extremadamente pequeños numeros, con la finalidad de que todas las aristas queden distintas.\n",
    "Cualquier arista que previamente era diferente seguira teniendo la misma diferencia relativa, dado que las perturbaciones son extremadamente pequeñas. Resolviendo los empates de las iguales.\n"
   ],
   "metadata": {
    "collapsed": false
   },
   "id": "4819e979a18745f5"
  },
  {
   "cell_type": "markdown",
   "source": [
    "# Implementación Eficiente\n",
    "Para implementar el \"reverse delete algorithm\" de manera eficiente, podemos usar las siguientes estructuras de datos:\n",
    "\n",
    "Estructura de Datos para Aristas:\n",
    "\n",
    "Utilizar una lista o un heap para almacenar y ordenar las aristas del grafo.\n",
    "Union-Find (Disjoint Set Union, DSU):\n",
    "\n",
    "Una estructura de datos eficiente para manejar la detección y unión de componentes conexas, permitiendo determinar si la remoción de una arista mantiene la conectividad."
   ],
   "metadata": {
    "collapsed": false
   },
   "id": "72b163dcaf98e307"
  },
  {
   "cell_type": "code",
   "execution_count": null,
   "id": "initial_id",
   "metadata": {
    "collapsed": true,
    "ExecuteTime": {
     "end_time": "2024-05-31T11:32:41.744665Z",
     "start_time": "2024-05-31T11:32:41.743260Z"
    }
   },
   "outputs": [],
   "source": []
  },
  {
   "cell_type": "code",
   "outputs": [],
   "source": [],
   "metadata": {
    "collapsed": false
   },
   "id": "96e2252980e3c385"
  }
 ],
 "metadata": {
  "kernelspec": {
   "display_name": "Python 3",
   "language": "python",
   "name": "python3"
  },
  "language_info": {
   "codemirror_mode": {
    "name": "ipython",
    "version": 2
   },
   "file_extension": ".py",
   "mimetype": "text/x-python",
   "name": "python",
   "nbconvert_exporter": "python",
   "pygments_lexer": "ipython2",
   "version": "2.7.6"
  }
 },
 "nbformat": 4,
 "nbformat_minor": 5
}
