{
 "cells": [
  {
   "cell_type": "markdown",
   "source": [],
   "metadata": {
    "collapsed": false
   },
   "id": "2b98b6d71a9623f8"
  },
  {
   "cell_type": "markdown",
   "source": [
    "Sea C el conjunto de ejes seleccionados por el algoritmo de Dijkstra para un grafo G=(V,E) pesado no dirigido. \n",
    "Probar o dar un contraejemplo las siguientes afirmaciones:\n",
    "- C corresponde a un árbol recubridor\n",
    "- C corresponde a un árbol recubridor mínimo.\n"
   ],
   "metadata": {
    "collapsed": false
   },
   "id": "9a5b1e43173bc94c"
  },
  {
   "cell_type": "markdown",
   "source": [
    "- C corresponde a un árbol recubridor\n",
    "Verdadero, ya que Dijsktra genera UN camino minimo desde un nodo dado s hacia los demas nodos, por lo que habra:\n",
    "    - n - 1: aristas (Uno por cada nodo al que se quiere llegar, ya que o se llega directo desde s o desde algun nodo al que ya se tiene camino minimo desde s y s no tiene camino minimo hacia si mismo => n -1)\n",
    "    - No habra ciclos (al haber un unico camino hacia el nodo x)\n",
    "    - Todos los vertices son alcanzados ya que el camino minimo es hacia todos los nodos\n",
    "Por lo que C corresponde a un árbol recubridor\n",
    "  "
   ],
   "metadata": {
    "collapsed": false
   },
   "id": "2eac27d564313cd9"
  },
  {
   "cell_type": "markdown",
   "source": [
    "- C corresponde a un árbol recubridor mínimo.\n",
    "No necesariamente, ya que dado 3 nodos s (origen), b y c.\n",
    "Si:\n",
    "    - ir a de s a c tiene costo 4\n",
    "    - ir a de s a b tiene costo 1\n",
    "    - ir de b a c tiene costo 3\n",
    "Si dijstra toma los ejes (s,b) y (s, c). No sera arbol recubridor minimo, tiene peso 5.\n",
    "Mientras que (s,b) (b,c) si lo seria con peso 4."
   ],
   "metadata": {
    "collapsed": false
   },
   "id": "308596a2e37ad025"
  }
 ],
 "metadata": {
  "kernelspec": {
   "display_name": "Python 3",
   "language": "python",
   "name": "python3"
  },
  "language_info": {
   "codemirror_mode": {
    "name": "ipython",
    "version": 2
   },
   "file_extension": ".py",
   "mimetype": "text/x-python",
   "name": "python",
   "nbconvert_exporter": "python",
   "pygments_lexer": "ipython2",
   "version": "2.7.6"
  }
 },
 "nbformat": 4,
 "nbformat_minor": 5
}
