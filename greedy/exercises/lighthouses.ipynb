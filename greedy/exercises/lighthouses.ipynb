{
 "cells": [
  {
   "cell_type": "code",
   "execution_count": 19,
   "id": "initial_id",
   "metadata": {
    "collapsed": true,
    "ExecuteTime": {
     "end_time": "2024-06-09T19:35:56.118839Z",
     "start_time": "2024-06-09T19:35:56.114636Z"
    }
   },
   "outputs": [
    {
     "name": "stdout",
     "output_type": "stream",
     "text": [
      "[LightHouse(s=0, e=10), LightHouse(s=5, e=15), LightHouse(s=10, e=20), LightHouse(s=15, e=25), LightHouse(s=20, e=30)]\n",
      "[LightHouse(s=0, e=10), LightHouse(s=10, e=20), LightHouse(s=20, e=30)]\n"
     ]
    }
   ],
   "source": [
    "class LightHouse:\n",
    "    def __init__(self, s, e):\n",
    "        self.s = s\n",
    "        self.e = e\n",
    "    def __repr__(self):\n",
    "        return f\"LightHouse(s={self.s}, e={self.e})\"\n",
    "\n",
    "def faros(L):\n",
    "    L.sort(key=lambda lh: (lh.s, -lh.e))\n",
    "    print(L)\n",
    "    last_km_covered = 0\n",
    "    solution = []\n",
    "    for i in range(len(L)):\n",
    "        if L[i].s > last_km_covered:\n",
    "            return None\n",
    "        if i + 1 < len(L) and L[i+1].s <= last_km_covered and L[i+1].e > L[i].e:\n",
    "            continue\n",
    "        if L[i].s <= last_km_covered < L[i].e:\n",
    "            solution.append(L[i])\n",
    "            last_km_covered = L[i].e\n",
    "    return solution\n",
    "\n",
    "\n",
    "# lighthouses = [LightHouse(0, 30), LightHouse(25, 50), LightHouse(50, 80), LightHouse(70, 100)]\n",
    "lighthouses = [\n",
    "    LightHouse(0, 10),\n",
    "    LightHouse(5, 15),\n",
    "    LightHouse(10, 20),\n",
    "    LightHouse(15, 25),\n",
    "    LightHouse(20, 30)\n",
    "]\n",
    "print(faros(lighthouses))"
   ]
  },
  {
   "cell_type": "code",
   "outputs": [],
   "source": [],
   "metadata": {
    "collapsed": false,
    "ExecuteTime": {
     "end_time": "2024-06-09T19:31:25.991037Z",
     "start_time": "2024-06-09T19:31:25.988882Z"
    }
   },
   "id": "805822bd4395d2e7",
   "execution_count": 9
  },
  {
   "cell_type": "code",
   "outputs": [],
   "source": [],
   "metadata": {
    "collapsed": false
   },
   "id": "107655bb353d259b"
  }
 ],
 "metadata": {
  "kernelspec": {
   "display_name": "Python 3",
   "language": "python",
   "name": "python3"
  },
  "language_info": {
   "codemirror_mode": {
    "name": "ipython",
    "version": 2
   },
   "file_extension": ".py",
   "mimetype": "text/x-python",
   "name": "python",
   "nbconvert_exporter": "python",
   "pygments_lexer": "ipython2",
   "version": "2.7.6"
  }
 },
 "nbformat": 4,
 "nbformat_minor": 5
}
