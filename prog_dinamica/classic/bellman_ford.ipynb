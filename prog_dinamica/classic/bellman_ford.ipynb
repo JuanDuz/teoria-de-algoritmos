{
 "cells": [
  {
   "cell_type": "markdown",
   "source": [
    "# Bellman ford\n",
    "### Tengo\n",
    "- Un grago G dirigido y ponderado (con costos que pueden ser negativos) de n nodos no aislados y M ejes\n",
    "- El grafo sin ciclos negativos (Si no se podria infinitamente recorrer el ciclo llevando el costo a -inf)\n",
    "\n",
    "### Quiero:\n",
    "- Dado un nodo inicial s y uno final t, encontrar el camino minimo que los une\n",
    "\n",
    "Recordemos que dijkstra resolvia camino minimo con Greedy, pero no es optimo con costos negativos\n",
    "\n",
    "### Recurrencia\n",
    "Llamamos OPT(ni,j) al problema de obtener el camino minimo hasta el nodo ni con una longitud maxima j (de 0 a j)\n",
    "\n",
    "Casos base:\n",
    "OPT(s, j) = 0, Como ya estoy en s, 0\n",
    "OPT(ni, 0) = inf, no hay forma de en 0 pasos llegar de s a ni (con ni != s)\n",
    "\n",
    "General:\n",
    "OPT(ni, j) = min {\n",
    "                        OPT(ni, j-1),\n",
    "                        min { OPT(nx, j - 1) + w(nx, ni) }, con nx e a Predecesores(ni)\n",
    "                    }, si j > 0\n",
    "                    \n",
    "El resultado seria OPT(t, n-1), n la cantidad de nodos en el grafo\n"
   ],
   "metadata": {
    "collapsed": false
   },
   "id": "ba463c2e850a04d1"
  },
  {
   "cell_type": "code",
   "execution_count": 4,
   "id": "initial_id",
   "metadata": {
    "collapsed": true,
    "ExecuteTime": {
     "end_time": "2024-06-07T16:10:29.904234Z",
     "start_time": "2024-06-07T16:10:29.895836Z"
    }
   },
   "outputs": [
    {
     "name": "stdout",
     "output_type": "stream",
     "text": [
      "Shortest distance from vertex 0 to vertex 4 is: 1\n",
      "Path: [0, 1, 4]\n"
     ]
    }
   ],
   "source": [
    "def bellman_ford(g, n, s, t):    \n",
    "    # Inicialización\n",
    "    opt = [[float('inf')] * n for _ in range(n)]\n",
    "    predecessor = [[-1] * n for _ in range(n)]\n",
    "    \n",
    "    # Caso base: OPT(s, j) = 0 para cualquier j\n",
    "    for j in range(n):\n",
    "        opt[s][j] = 0\n",
    "    \n",
    "    # Caso base: OPT(ni, 0) = inf para ni != s\n",
    "    for ni in range(n):\n",
    "        if ni != s:\n",
    "            opt[ni][0] = float('inf')\n",
    "            \n",
    "    # Rellenar la tabla opt usando la recurrencia\n",
    "    for l in range(1, n):\n",
    "        for ni in range(n):\n",
    "            opt[ni][l] = opt[ni][l-1]\n",
    "            for u, v, weight in g:\n",
    "                if v == ni and opt[u][l-1] != float('inf') and opt[u][l-1] + weight < opt[ni][l]:\n",
    "                    predecessor[ni][l] = u\n",
    "                    opt[ni][l] = opt[u][l-1] + weight\n",
    "\n",
    "    # Encontrar la longitud mínima del camino en el nodo t\n",
    "    min_cost = float('inf')\n",
    "    min_l = -1\n",
    "    for l in range(n):\n",
    "        if opt[t][l] < min_cost:\n",
    "            min_cost = opt[t][l]\n",
    "            min_l = l\n",
    "\n",
    "    # Reconstrucción del camino desde t hacia s\n",
    "    path = []\n",
    "    current_vertex = t\n",
    "    current_j = min_l\n",
    "    \n",
    "    while current_vertex != -1:\n",
    "        path.append(current_vertex)\n",
    "        current_vertex = predecessor[current_vertex][current_j]\n",
    "        current_j -= 1\n",
    "    \n",
    "    path.reverse()\n",
    "    return min_cost, path\n",
    "\n",
    "# Ejemplo de uso\n",
    "# Grafo representado como una lista de aristas (u, v, peso)\n",
    "G = [\n",
    "    (0, 1, -1),\n",
    "    (0, 2, 4),\n",
    "    (1, 2, 3),\n",
    "    (1, 3, 2),\n",
    "    (1, 4, 2),\n",
    "    (3, 2, 5),\n",
    "    (3, 1, 1),\n",
    "    (4, 3, -3)\n",
    "]\n",
    "\n",
    "N = 5\n",
    "S = 0 # llamamos 0 a s\n",
    "T = N - 1  # y n-1 a t\n",
    "\n",
    "cost, path = bellman_ford(G, N, S, T)\n",
    "\n",
    "print(f\"Shortest distance from vertex {S} to vertex {T} is: {cost}\")\n",
    "print(f\"Path: {path}\")"
   ]
  },
  {
   "cell_type": "markdown",
   "source": [
    "### Complejidad\n",
    "- Temporal: => O(n * m)\n",
    "- Espacial: Guardo los n * m optimos => O(n * m)"
   ],
   "metadata": {
    "collapsed": false
   },
   "id": "d5a45142eff8e678"
  }
 ],
 "metadata": {
  "kernelspec": {
   "display_name": "Python 3",
   "language": "python",
   "name": "python3"
  },
  "language_info": {
   "codemirror_mode": {
    "name": "ipython",
    "version": 2
   },
   "file_extension": ".py",
   "mimetype": "text/x-python",
   "name": "python",
   "nbconvert_exporter": "python",
   "pygments_lexer": "ipython2",
   "version": "2.7.6"
  }
 },
 "nbformat": 4,
 "nbformat_minor": 5
}
