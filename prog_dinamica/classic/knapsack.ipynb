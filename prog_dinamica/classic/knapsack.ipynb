{
 "cells": [
  {
   "cell_type": "markdown",
   "source": [
    "# Knapsack\n",
    "\n",
    "### Tengo\n",
    "- Un conjunto de n elementos E = {e1, e2,..., en}\n",
    "- Donde cada elemento ei cuenta con un peso wi asociado y una ganancia vi\n",
    "- Un valor W de peso maximo\n",
    "\n",
    "### Quiero\n",
    "- Seleccionar un subset de elementos con la mayor ganancia acumulada posible, que no supere un valor W de peso maximo.\n",
    "\n",
    "### Recurrencia\n",
    "Es una variante del subset sum, seria subset sum si vi = wi\n",
    "\n",
    "El óptimo de un subproblema i se puede ver como:\n",
    "- Si ei e al Optimo: vi + OPT(i -1)\n",
    "- Si ei no e al Optimo: OPT(i -1)\n",
    "\n",
    "OPT(0, p) = 0, si i = 0 o p = 0\n",
    "OPT(i, p) = Max { vi + OPT(i - 1, p - wi), OPT(i - 1, p) }"
   ],
   "metadata": {
    "collapsed": false
   },
   "id": "c1b7281bb405d90"
  },
  {
   "cell_type": "code",
   "execution_count": 3,
   "id": "initial_id",
   "metadata": {
    "collapsed": true,
    "ExecuteTime": {
     "end_time": "2024-06-10T13:15:30.734005Z",
     "start_time": "2024-06-10T13:15:30.724380Z"
    }
   },
   "outputs": [
    {
     "data": {
      "text/plain": "(110, [30, 10, 80, 70])"
     },
     "execution_count": 3,
     "metadata": {},
     "output_type": "execute_result"
    }
   ],
   "source": [
    "E = [70, 80, 10, 30]\n",
    "V = [70, 95, 15, 30]\n",
    "W = 100\n",
    "\n",
    "def subset_sum(e, w, v):\n",
    "    n = len(e)\n",
    "    opt = [[0] * (w + 1) for _ in range(n + 1)]\n",
    "    solucion = []\n",
    "    elegido = [False] * (n + 1)\n",
    "    \n",
    "    for i in range(1, n + 1):\n",
    "        for p in range(1, w + 1):\n",
    "            if e[i - 1] <= p:\n",
    "                en_optimo = v[i - 1] + opt[i - 1][p - e[i - 1]]\n",
    "                no_en_optimo = opt[i - 1][p]\n",
    "                if en_optimo > no_en_optimo:\n",
    "                    opt[i][p] = en_optimo\n",
    "                    elegido[i] = True\n",
    "                else:\n",
    "                    opt[i][p] =no_en_optimo\n",
    "            else:\n",
    "                 opt[i][p] = opt[i - 1][p]\n",
    "    i = n            \n",
    "    while i > 0:\n",
    "        if elegido[i]:\n",
    "            solucion.append(e[i -1])\n",
    "        i -= 1\n",
    "        \n",
    "    return opt[n][w], solucion\n",
    "\n",
    "subset_sum(E, W, V)"
   ]
  },
  {
   "cell_type": "markdown",
   "source": [
    "### Complejidad\n",
    "- Temporal: Recorro los n elementos, y en cada paso recorro desde 1 al peso W => O(n * w)\n",
    "- Espacial: Guardo los n * W Optimos => O(n * w)"
   ],
   "metadata": {
    "collapsed": false
   },
   "id": "1d2260df694b920"
  }
 ],
 "metadata": {
  "kernelspec": {
   "display_name": "Python 3",
   "language": "python",
   "name": "python3"
  },
  "language_info": {
   "codemirror_mode": {
    "name": "ipython",
    "version": 2
   },
   "file_extension": ".py",
   "mimetype": "text/x-python",
   "name": "python",
   "nbconvert_exporter": "python",
   "pygments_lexer": "ipython2",
   "version": "2.7.6"
  }
 },
 "nbformat": 4,
 "nbformat_minor": 5
}
