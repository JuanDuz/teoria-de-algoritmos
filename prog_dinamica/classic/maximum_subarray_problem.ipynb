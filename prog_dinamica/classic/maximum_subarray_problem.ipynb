{
 "cells": [
  {
   "cell_type": "markdown",
   "source": [
    "# Maximum subarray problem\n",
    "### Tengo:\n",
    "- Una lista de n elementos ordenados E = (e1, e2,..., en)\n",
    "- Cada elemento ei tiene un valor numerico vi\n",
    "\n",
    "### Quiero:\n",
    "- Calcular un subconjunto contiguo de E tal que la suma de los valores sea la maxima posible entre todos los otros posibles subconjuntos\n",
    "\n",
    "### Recurrencia:\n",
    "Llamamos OPT(i) al problema de hallar el subvector con max valor que termina en el elemento i.\n",
    "\n",
    "OPT(i) = vi, si i = 0\n",
    "OPT(i) = Max { vi + OPT(i - 1), vi }, si i > 0"
   ],
   "metadata": {
    "collapsed": false
   },
   "id": "a05637b23f68bd0c"
  },
  {
   "cell_type": "code",
   "execution_count": 18,
   "id": "initial_id",
   "metadata": {
    "collapsed": true,
    "ExecuteTime": {
     "end_time": "2024-06-07T14:50:17.575122Z",
     "start_time": "2024-06-07T14:50:17.569781Z"
    }
   },
   "outputs": [
    {
     "data": {
      "text/plain": "(7, 3, 5)"
     },
     "execution_count": 18,
     "metadata": {},
     "output_type": "execute_result"
    }
   ],
   "source": [
    "E1 = [-2, 3, -3, 4, 1, 2]\n",
    "E2 = [4, 4, 4, -1, -1]\n",
    "\n",
    "def maximum_subarray_problem(e):\n",
    "    max_ending_here = e[0]\n",
    "    max_so_far = e[0]\n",
    "    end = 0\n",
    "    start = 0\n",
    "    \n",
    "    for i in range(1, len(e)):\n",
    "        starting_again = e[i]\n",
    "        continuing_subarray = max_ending_here + e[i]\n",
    "        \n",
    "        if continuing_subarray > starting_again:\n",
    "            max_ending_here = continuing_subarray\n",
    "        else:\n",
    "            max_ending_here = starting_again\n",
    "            start = i\n",
    "        \n",
    "        if max_ending_here >= max_so_far:\n",
    "            max_so_far = max_ending_here\n",
    "            end = i\n",
    "    \n",
    "    return max_so_far, start, end\n",
    "maximum_subarray_problem(E1)"
   ]
  },
  {
   "cell_type": "markdown",
   "source": [
    "### Complejidad\n",
    "- Temporal: Recorro los n elementos, y en cada paso O(1) => O(n)\n",
    "- Espacial: Guardo el max, inicio y fin O(1)"
   ],
   "metadata": {
    "collapsed": false
   },
   "id": "67862869c726aee1"
  },
  {
   "cell_type": "code",
   "outputs": [],
   "source": [],
   "metadata": {
    "collapsed": false
   },
   "id": "23b960467c345804"
  }
 ],
 "metadata": {
  "kernelspec": {
   "display_name": "Python 3",
   "language": "python",
   "name": "python3"
  },
  "language_info": {
   "codemirror_mode": {
    "name": "ipython",
    "version": 2
   },
   "file_extension": ".py",
   "mimetype": "text/x-python",
   "name": "python",
   "nbconvert_exporter": "python",
   "pygments_lexer": "ipython2",
   "version": "2.7.6"
  }
 },
 "nbformat": 4,
 "nbformat_minor": 5
}
