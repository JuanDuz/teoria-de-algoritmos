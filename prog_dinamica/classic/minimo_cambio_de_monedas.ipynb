{
 "cells": [
  {
   "cell_type": "markdown",
   "source": [
    "# Minimo cambio de monedas\n",
    "\n",
    "### Tengo\n",
    "- Un conjunto de monedas de diferente denominacion sin restriccion de cantidad, S = (C1, C2,..., Cn)\n",
    "- Un importe X de cambio a dar\n",
    "\n",
    "### Quiero\n",
    "- Entregar ese importe de cambio a dar con la cantidad minima de monedas\n",
    "\n",
    "### Recurrencia\n",
    "\n",
    "Caso base:\n",
    "OPT(0) = 0, si X = 0\n",
    "OPT(X) = 1 + MIN { OPT(X - Ci) } (Para todo Ci e a S), si X > 0\n"
   ],
   "metadata": {
    "collapsed": false
   },
   "id": "50e5a90b205f7b9a"
  },
  {
   "cell_type": "code",
   "execution_count": 42,
   "id": "initial_id",
   "metadata": {
    "collapsed": true,
    "ExecuteTime": {
     "end_time": "2024-06-07T13:26:26.060166Z",
     "start_time": "2024-06-07T13:26:26.053094Z"
    }
   },
   "outputs": [
    {
     "data": {
      "text/plain": "(2, [4, 4])"
     },
     "execution_count": 42,
     "metadata": {},
     "output_type": "execute_result"
    }
   ],
   "source": [
    "X = 8\n",
    "S = [10, 4, 2, 5, 1]\n",
    "def minimo_cambio_de_monedas(x, s):\n",
    "    n = len(S)\n",
    "    opt = [0] * (x + 1)\n",
    "    opt[0] = 0\n",
    "    elegido = [0] * (x + 1)\n",
    "    seleccionados = []\n",
    "    \n",
    "    for i in range(1, x + 1): # Cada subproblema\n",
    "        min_total = float('inf')\n",
    "        for j in range(0, n):\n",
    "            resto = i - s[j]\n",
    "            if resto >= 0 and min_total > opt[resto]:\n",
    "                min_total = opt[resto]\n",
    "                elegido[i] = s[j]\n",
    "        opt[i] = 1 + min_total\n",
    "        \n",
    "    i = x\n",
    "    while i > 0:\n",
    "        seleccionados.append(elegido[i])\n",
    "        i -= elegido[i]\n",
    "        \n",
    "    return opt[x], seleccionados\n",
    "        \n",
    "minimo_cambio_de_monedas(X, S)"
   ]
  },
  {
   "cell_type": "markdown",
   "source": [
    "### Complejidad\n",
    "- Temporal: Recorro de 1 a X, y en cada paso recorro los n elementos de S => O(n * X)\n",
    "- Espacial: Guardo los X Optimos => O(X)"
   ],
   "metadata": {
    "collapsed": false
   },
   "id": "3b2eb5494275efa4"
  },
  {
   "cell_type": "code",
   "outputs": [],
   "source": [],
   "metadata": {
    "collapsed": false
   },
   "id": "37140742e231f3b1"
  }
 ],
 "metadata": {
  "kernelspec": {
   "display_name": "Python 3",
   "language": "python",
   "name": "python3"
  },
  "language_info": {
   "codemirror_mode": {
    "name": "ipython",
    "version": 2
   },
   "file_extension": ".py",
   "mimetype": "text/x-python",
   "name": "python",
   "nbconvert_exporter": "python",
   "pygments_lexer": "ipython2",
   "version": "2.7.6"
  }
 },
 "nbformat": 4,
 "nbformat_minor": 5
}
