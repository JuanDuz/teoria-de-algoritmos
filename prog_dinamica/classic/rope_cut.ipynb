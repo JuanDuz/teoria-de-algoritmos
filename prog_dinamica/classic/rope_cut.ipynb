{
 "cells": [
  {
   "cell_type": "markdown",
   "source": [
    "# Corte de soga\n",
    "\n",
    "### Tengo\n",
    "- Una soga de longitud L divisible\n",
    "- Una tabla de precios por longitud de soga\n",
    "\n",
    "### Quiero\n",
    "- Que cortes realizar para maximizar la ganancia\n",
    "\n",
    "### Recurrencia\n",
    "OPT(O) = 0\n",
    "OPT(X) = MAX(con i=1 a X) { pi + OPT(X - li) }"
   ],
   "metadata": {
    "collapsed": false
   },
   "id": "5e37f6c59e02f920"
  },
  {
   "cell_type": "code",
   "execution_count": 25,
   "id": "initial_id",
   "metadata": {
    "collapsed": true,
    "ExecuteTime": {
     "end_time": "2024-06-07T10:45:46.326618Z",
     "start_time": "2024-06-07T10:45:46.319464Z"
    }
   },
   "outputs": [
    {
     "data": {
      "text/plain": "(13, [3, 3, 3, 1])"
     },
     "execution_count": 25,
     "metadata": {},
     "output_type": "execute_result"
    }
   ],
   "source": [
    "L = 10\n",
    "p = {1: 1, 2: 1, 3: 4, 4: 4, 5: 4, 6: 3, 7: 6, 8: 5, 9: 4, 10: 7}\n",
    "\n",
    "def convenient_rope_cuts(L, p):\n",
    "    opt = [0] * (L + 1)\n",
    "    opt[0] = 0\n",
    "    eleccion = [0] * (L + 1)\n",
    "    cortes = []\n",
    "\n",
    "    for i in range(1, L + 1):\n",
    "        max_value_cut = 0\n",
    "        for j in range(1, i + 1):\n",
    "            if j in p:\n",
    "                cut = p[j] + opt[i - j]\n",
    "                if cut > max_value_cut:\n",
    "                    max_value_cut = cut\n",
    "                    eleccion[i] = j\n",
    "        opt[i] = max_value_cut\n",
    "            \n",
    "    resto = L\n",
    "    elegido = eleccion[resto]\n",
    "    while elegido > 0:        \n",
    "        cortes.append(elegido)\n",
    "        resto -= elegido\n",
    "        elegido = eleccion[resto]\n",
    "\n",
    "    cortes.reverse()\n",
    "    return opt[L], cortes\n",
    "\n",
    "convenient_rope_cuts(L,p)"
   ]
  },
  {
   "cell_type": "markdown",
   "source": [
    "### Complejidad\n",
    "- Temporal: Recorro los L subproblemas y para cada uno de ellos, todos los cortes posibles => O(L**2)\n",
    "- Espacial: Guargo en L optimos => O(L)"
   ],
   "metadata": {
    "collapsed": false
   },
   "id": "71798fb7692e0784"
  },
  {
   "cell_type": "code",
   "outputs": [],
   "source": [],
   "metadata": {
    "collapsed": false
   },
   "id": "c22db148469fa9e3"
  }
 ],
 "metadata": {
  "kernelspec": {
   "display_name": "Python 3",
   "language": "python",
   "name": "python3"
  },
  "language_info": {
   "codemirror_mode": {
    "name": "ipython",
    "version": 2
   },
   "file_extension": ".py",
   "mimetype": "text/x-python",
   "name": "python",
   "nbconvert_exporter": "python",
   "pygments_lexer": "ipython2",
   "version": "2.7.6"
  }
 },
 "nbformat": 4,
 "nbformat_minor": 5
}
