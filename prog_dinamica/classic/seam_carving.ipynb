{
 "cells": [
  {
   "cell_type": "markdown",
   "source": [
    "# Seam carving\n",
    "\n",
    "### Tengo\n",
    "- Una matriz w * h (Una imagen con pixeles)\n",
    "- Cada celda tiene un valor v(n,m) (Cada pixel tiene una energia asociada)\n",
    "\n",
    "### Quiero\n",
    "- Encontrar la veta (Horizontal o vertical) de menor \"energia\"\n",
    "Es decir, el camino de 0 a w, o de 0 a h cuya suma de valores sea la minima. De una celda me puedo desplazar a sus 3 próximos alrededores dependiendo la direccion (horizontal o vertical).\n",
    "\n",
    "### Recurrencia\n",
    "- Desde una celda puedo acceder solo a otras 3 (2 para los casos de los bordes)\n",
    "- A una celda se puede ser accedido solo desde otras 3 (2 para los casos de los bordes)\n",
    "\n",
    "Veamos un caso horizontal:\n",
    "- En la primera columna, el valor acumulado sería solo el valor de la celda dada.\n",
    "- Para una columna generica, el valor acumulado sería el valor de la celda más lo acumulado hasta llegar a ella. Recordemos que solo se puede llegar hacia una celda desde 3 (o 2 para los bordes) celdas de la columna anterior\n",
    "\n",
    "siendo i el indice de fila y j el indice de columna\n",
    "OPT(i, j) = vi,  si j = 0\n",
    "OPT(i, j) = vi + Min { OPT(i - 1 , j - 1), OPT(i, j - 1), OPT(i + 1 , j - 1) }, si j > 0\n",
    "\n",
    "Y el resultado será el min entre los caminos minimos de haber llegado hasta los píxeles de la última columna, es decir min { OPT(i, w) }.\n"
   ],
   "metadata": {
    "collapsed": false
   },
   "id": "85b1dfe4eedbeb3b"
  },
  {
   "cell_type": "code",
   "execution_count": 10,
   "id": "initial_id",
   "metadata": {
    "collapsed": true,
    "ExecuteTime": {
     "end_time": "2024-06-07T12:01:04.406143Z",
     "start_time": "2024-06-07T12:01:04.395329Z"
    }
   },
   "outputs": [
    {
     "data": {
      "text/plain": "(2, [(2, 3), (3, 2), (3, 1), (2, 0)])"
     },
     "execution_count": 10,
     "metadata": {},
     "output_type": "execute_result"
    }
   ],
   "source": [
    "IMG = [\n",
    "    [0, 2, 2, 0],\n",
    "    [2, 4, 4, 0],     \n",
    "    [0, 4, 4, 0],  # => 0, 1, 1, 0 debe ser la veta horizontal\n",
    "    [1, 1, 1, 1],\n",
    "]\n",
    "def seam_carving_horizontal(img):\n",
    "    h = len(img)\n",
    "    w = len(img[0])\n",
    "    opt = [[0] * w for _ in range(h)]\n",
    "    anterior_elegido = [[0] * w for _ in range(h)]\n",
    "    selecciones = []\n",
    "\n",
    "    for i in range(h):\n",
    "        opt[i][0] = img[i][0]\n",
    "    \n",
    "    for j in range(1, w):\n",
    "        for i in range(0, h):\n",
    "            # valor actual\n",
    "            vij = img[i][j] \n",
    "            \n",
    "            # valores acumulados de las 3 posibles celdas anteriores\n",
    "            acumulado_desde_anterior_arriba = float('inf')\n",
    "            acumulado_desde_anterior_abajo = float('inf')\n",
    "            if i > 0:\n",
    "                acumulado_desde_anterior_arriba = opt[i - 1][j - 1]\n",
    "            acumulado_desde_anterior = opt[i][j - 1]\n",
    "            if i < h - 1:\n",
    "                acumulado_desde_anterior_abajo = opt[i + 1][j - 1]\n",
    "                \n",
    "            # La celda de las 3 anteriores que menos acumulo es:\n",
    "            movimiento_de_fila_anterior = 0 # -1 una fila arriba, 0 misma fila, 1 una fila abajo\n",
    "            min_acumulado_entre_anteriores = min(\n",
    "                acumulado_desde_anterior_arriba,\n",
    "                acumulado_desde_anterior,\n",
    "                acumulado_desde_anterior_abajo\n",
    "            )\n",
    "            if min_acumulado_entre_anteriores == acumulado_desde_anterior_arriba:\n",
    "                movimiento_de_fila_anterior = -1\n",
    "            elif min_acumulado_entre_anteriores == acumulado_desde_anterior_abajo:\n",
    "                movimiento_de_fila_anterior = 1\n",
    "                \n",
    "            # Asignaciones\n",
    "            opt[i][j] = vij + min_acumulado_entre_anteriores\n",
    "            anterior_elegido[i][j] = movimiento_de_fila_anterior\n",
    "    \n",
    "    # Obtener los valores de la última columna junto con sus índices\n",
    "    v_acumulados_ultima_columna = [(fila[-1], idx) for idx, fila in enumerate(opt)]\n",
    "    # Encontrar el valor mínimo y la fila correspondiente\n",
    "    menor_v_acumulado_de_celdas_de_ultima_columna, fila_del_menor_valor = min(v_acumulados_ultima_columna)\n",
    "    \n",
    "    # Recontruccion camino\n",
    "    j = w - 1\n",
    "    i = fila_del_menor_valor\n",
    "    while j >= 0:\n",
    "        selecciones.append((i,j))\n",
    "        i += anterior_elegido[i][j]\n",
    "        j -= 1\n",
    "    \n",
    "    return menor_v_acumulado_de_celdas_de_ultima_columna, selecciones\n",
    "            \n",
    "seam_carving_horizontal(IMG)"
   ]
  },
  {
   "cell_type": "markdown",
   "source": [
    "### Complejidad\n",
    "#### Temporal: \n",
    "1) Para todos los pixeles de la columna 1 seteo el caso base -> O(h)\n",
    "2) Para cada columna recorro cada fila -> O(h * w)\n",
    "3) Recorro los valores acumulados de los pixeles de la ultima columna -> O(h)\n",
    "=> O(h * w)\n",
    "#### Espacial: Espacial guardo los optimos de cada celda => O(h * w)"
   ],
   "metadata": {
    "collapsed": false
   },
   "id": "bca03eb75c368cdb"
  }
 ],
 "metadata": {
  "kernelspec": {
   "display_name": "Python 3",
   "language": "python",
   "name": "python3"
  },
  "language_info": {
   "codemirror_mode": {
    "name": "ipython",
    "version": 2
   },
   "file_extension": ".py",
   "mimetype": "text/x-python",
   "name": "python",
   "nbconvert_exporter": "python",
   "pygments_lexer": "ipython2",
   "version": "2.7.6"
  }
 },
 "nbformat": 4,
 "nbformat_minor": 5
}
