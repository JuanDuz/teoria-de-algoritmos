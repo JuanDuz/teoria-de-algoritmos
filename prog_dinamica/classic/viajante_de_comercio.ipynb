{
 "cells": [
  {
   "cell_type": "markdown",
   "source": [
    "# Viajante de comercio\n",
    "### Tengo:\n",
    "- Un conjunto de n ciudades C\n",
    "- Un conjunto de rutas con costo de tránsito\n",
    "- Existe una ruta que une cada par de ciudades (Si no, las uno con +inf)\n",
    "- Una ciudad inicial s\n",
    "\n",
    "### Quiero\n",
    "- Obtener el camino con menor costo que inicie y finalize en una ciudad s, pasando por todas las ciudades (Que pase por el resto de ciudades solo 1 vez)   \n",
    "\n",
    "### Recurrencia\n",
    "Llamemos OPT(i, {S}) al problema de hallar el camino minimo para visitar la ciudad i, teniendo las ciudades {S} aun restantes a visitar.\n",
    "\n",
    "Caso base:\n",
    "OPT(i, {}) = w(i, s), (Si restantes por visitar vacio)\n",
    "\n",
    "Caso general:\n",
    "OPT(i, {S}) = Min { w(i, j) + OPT (j, {S - j}) },  Para todo i e S \n",
    "\n",
    "El resultado será:\n",
    "OPT(s, G)"
   ],
   "metadata": {
    "collapsed": false
   },
   "id": "3c108712d2ce56ea"
  },
  {
   "cell_type": "code",
   "execution_count": null,
   "id": "initial_id",
   "metadata": {
    "collapsed": true
   },
   "outputs": [],
   "source": []
  }
 ],
 "metadata": {
  "kernelspec": {
   "display_name": "Python 3",
   "language": "python",
   "name": "python3"
  },
  "language_info": {
   "codemirror_mode": {
    "name": "ipython",
    "version": 2
   },
   "file_extension": ".py",
   "mimetype": "text/x-python",
   "name": "python",
   "nbconvert_exporter": "python",
   "pygments_lexer": "ipython2",
   "version": "2.7.6"
  }
 },
 "nbformat": 4,
 "nbformat_minor": 5
}
