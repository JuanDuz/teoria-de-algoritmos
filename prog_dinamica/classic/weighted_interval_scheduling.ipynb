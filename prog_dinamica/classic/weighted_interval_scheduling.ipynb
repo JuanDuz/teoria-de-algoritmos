{
 "cells": [
  {
   "cell_type": "markdown",
   "source": [
    "# Weighted interval scheduling\n",
    "\n",
    "## Tengo\n",
    "- Un conjunnto de n intervalos, donde cada intervalo i tiene un inicio (si), un fin (fi) y un valor (vi)\n",
    "- Dos intervalos son compatibles si no se solapan.\n",
    "\n",
    "## Quiero\n",
    "- Obtener un subconjunto de los intervalos compatibles, de manera tal de maximizar la suma de los valores de los intervalos elegidos.\n",
    "\n",
    "## Analisis\n",
    "Ordenemos los intervalos por orden de finalizacion creciente. => f1 < f2 < fn\n",
    "Llamamos p(j), para un intervalo j, al problema de encontrar el intervalo i de mayor indice que sea compatible con j.\n",
    "p(j) = -1 si no hay un anterior intervalo compatible.\n",
    "\n",
    "## Recurrencia\n",
    "\n",
    "OPT[0] = 0\n",
    "OPT[i] = max(v[i] + OPT[p(i)], OPT[i -1])"
   ],
   "metadata": {
    "collapsed": false
   },
   "id": "18470d7ded1bc4c2"
  },
  {
   "cell_type": "code",
   "execution_count": 34,
   "id": "initial_id",
   "metadata": {
    "collapsed": true,
    "ExecuteTime": {
     "end_time": "2024-06-07T10:01:18.373919Z",
     "start_time": "2024-06-07T10:01:18.364562Z"
    }
   },
   "outputs": [
    {
     "data": {
      "text/plain": "(7,\n [Interval(s=0, f=1, v=3), Interval(s=2, f=6, v=3), Interval(s=6, f=8, v=1)])"
     },
     "execution_count": 34,
     "metadata": {},
     "output_type": "execute_result"
    }
   ],
   "source": [
    "class Interval:\n",
    "    def __init__(self, s, f, v):\n",
    "        self.s = s\n",
    "        self.f = f\n",
    "        self.v = v\n",
    "        \n",
    "    def __str__(self):\n",
    "        return f\"Interval(s: {self.s}, f: {self.f}, v: {self.v})\"\n",
    "    \n",
    "    def __repr__(self):\n",
    "        return f\"Interval(s={self.s}, f={self.f}, v={self.v})\"\n",
    "        \n",
    "def p(j, intervals):\n",
    "    for i in range(j - 1, -1, -1):\n",
    "        if intervals[i].f <= intervals[j].s:\n",
    "            return i\n",
    "    return -1\n",
    "        \n",
    "    \n",
    "def weighted_interval_scheduling(intervals):\n",
    "    n = len(intervals)\n",
    "    OPT = [0] * n\n",
    "    intervals.sort(key=lambda interval: interval.f)\n",
    "    OPT[0] = intervals[0].v\n",
    "    elegido = [False] * n\n",
    "    selecciones = []\n",
    "    \n",
    "    for i in range(1, n):\n",
    "        pi = p(i, intervals)\n",
    "        en_optimo = intervals[i].v + (OPT[pi] if pi >= 0 else 0)\n",
    "        no_en_optimo = OPT[i - 1]\n",
    "        if en_optimo >= no_en_optimo:\n",
    "            OPT[i] = en_optimo\n",
    "            elegido[i] = True\n",
    "        else:\n",
    "            OPT[i] = no_en_optimo\n",
    "    \n",
    "    i = n -1\n",
    "    while i >= 0:\n",
    "        if elegido[i]:\n",
    "            selecciones.append(i)\n",
    "            i = p(i, intervals)\n",
    "            if i == 0:\n",
    "                selecciones.append(i)\n",
    "        else:\n",
    "            i -= 1\n",
    "    \n",
    "    selecciones.reverse()\n",
    "    return OPT[n - 1], [intervals[i] for i in selecciones]\n",
    "        \n",
    "ejemplo = [Interval(0, 1, 1), Interval(1, 2, 1), Interval(2, 3, 1)]  \n",
    "ejemplo_2 = [Interval(0, 2, 4), Interval(2, 4, 4), Interval(2, 6, 1)]  \n",
    "ejemplo_3 = [Interval(0, 1, 3), Interval(0, 4, 4), Interval(2, 6, 3), Interval(6, 8, 1)]  \n",
    "weighted_interval_scheduling(ejemplo_3)"
   ]
  },
  {
   "cell_type": "markdown",
   "source": [
    "### Complejidad\n",
    "- Temporal: Recorro todos los elementos y en cada uno hayo el p(i), en el peor de los casos el p(i) es O(n) => El total O(n**2) Si ya se los p(i) => Total O(n)\n",
    "- Espacial: O(n) mantengo un arreglo"
   ],
   "metadata": {
    "collapsed": false
   },
   "id": "5c37e8b11bae5670"
  }
 ],
 "metadata": {
  "kernelspec": {
   "display_name": "Python 3",
   "language": "python",
   "name": "python3"
  },
  "language_info": {
   "codemirror_mode": {
    "name": "ipython",
    "version": 2
   },
   "file_extension": ".py",
   "mimetype": "text/x-python",
   "name": "python",
   "nbconvert_exporter": "python",
   "pygments_lexer": "ipython2",
   "version": "2.7.6"
  }
 },
 "nbformat": 4,
 "nbformat_minor": 5
}
