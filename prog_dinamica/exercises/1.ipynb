{
 "cells": [
  {
   "cell_type": "markdown",
   "source": [
    "# Enunciado\n",
    "Para una inversión inmobiliaria un grupo inversor desea desarrollar un barrio privado paralelo a la una ruta. Con ese motivo realizaron una evaluación de los diferentes terrenos en un trayecto de la misma. Diferentes inversores participarán, pero a condición de comprar algún terreno en particular. El grupo inversor determinó para cada propiedad su evaluación de ganancia. El mismo surge como la suma de inversiones ofrecida por el terreno menos el costo de compra. Debemos recomendar que terrenos contiguos comprar para que maximicen sus ganancias.  Ejemplo: S = [-2, 3, -3, 4, -1, 2]. La mayor ganancia es de 5, comprando los terrenos de valor  [4, -1, 2]. Solucionar el problema mediante un algoritmo de programación dinámica."
   ],
   "metadata": {
    "collapsed": false
   },
   "id": "cb844135846d871c"
  },
  {
   "cell_type": "markdown",
   "source": [
    "### Tengo:\n",
    "- Un conjunto S de n terrenos ordenados de manera contigua. (Supongamos para redactar que desde un punto de origen km = 0 relativo al primer terreno)\n",
    "- Cada uno tiene una ganancia S[i], a cada terreno lo llamaremos el terreno i, iniciando del terreno 0 que esta en el km 0."
   ],
   "metadata": {
    "collapsed": false
   },
   "id": "ec96d806831d7aa5"
  },
  {
   "cell_type": "markdown",
   "source": [
    "### Quiero:\n",
    "- Seleccionar el subconjunto de S con terrenos contiguos y que maximize la mayor ganancia total"
   ],
   "metadata": {
    "collapsed": false
   },
   "id": "e1585f1684256fa0"
  },
  {
   "cell_type": "markdown",
   "source": [
    "### Recurrencia\n",
    "\n",
    "Llamemos max_ending_here(i) al problema de obtener la suma máxima de una subsecuencia contigua que termina en el índice i.\n",
    "\n",
    "La relacion de recurrencia es:\n",
    "\n",
    "max_ending_here(i) = maxh)"
   ],
   "metadata": {
    "collapsed": false
   },
   "id": "29b7f0c9c4e27f7c"
  },
  {
   "cell_type": "markdown",
   "source": [
    "### Codigo"
   ],
   "metadata": {
    "collapsed": false
   },
   "id": "1c2774c4d8315502"
  },
  {
   "cell_type": "code",
   "execution_count": 17,
   "id": "initial_id",
   "metadata": {
    "collapsed": true,
    "ExecuteTime": {
     "end_time": "2024-06-07T14:17:44.773444Z",
     "start_time": "2024-06-07T14:17:44.763381Z"
    }
   },
   "outputs": [
    {
     "data": {
      "text/plain": "7"
     },
     "execution_count": 17,
     "metadata": {},
     "output_type": "execute_result"
    }
   ],
   "source": [
    "def max_terrenos_contiguos(ganancias):\n",
    "    n = len(ganancias)\n",
    "    opt = [0] * n\n",
    "    elegidos = []\n",
    "    opt[0] = ganancias[0]\n",
    "    #elegidos[0] = False\n",
    "    \n",
    "    for i in range(1,n):\n",
    "        incluye_opt_anterior = opt[i - 1] + ganancias[i]\n",
    "        no_incluye_opt_anterior = ganancias[i]\n",
    "        opt[i] = max(incluye_opt_anterior, no_incluye_opt_anterior)\n",
    "        \n",
    "    return opt[n - 1]\n",
    "\n",
    "ejemplo_1 = [-2, 3, -3, 4, 1, 2]\n",
    "ejemplo_2 = [4, 4, 4, -1, -1]\n",
    "max_terrenos_contiguos(ejemplo_1)"
   ]
  },
  {
   "cell_type": "markdown",
   "source": [
    "### Complejidad\n",
    "- Espacial:\n",
    "- Temporal:"
   ],
   "metadata": {
    "collapsed": false
   },
   "id": "9e99d47e1ee671b9"
  },
  {
   "cell_type": "code",
   "outputs": [],
   "source": [],
   "metadata": {
    "collapsed": false
   },
   "id": "cea47950ecb775d"
  }
 ],
 "metadata": {
  "kernelspec": {
   "display_name": "Python 3",
   "language": "python",
   "name": "python3"
  },
  "language_info": {
   "codemirror_mode": {
    "name": "ipython",
    "version": 2
   },
   "file_extension": ".py",
   "mimetype": "text/x-python",
   "name": "python",
   "nbconvert_exporter": "python",
   "pygments_lexer": "ipython2",
   "version": "2.7.6"
  }
 },
 "nbformat": 4,
 "nbformat_minor": 5
}
