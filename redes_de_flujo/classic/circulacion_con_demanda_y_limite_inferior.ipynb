{
 "cells": [
  {
   "cell_type": "markdown",
   "source": [
    "# Circulacion con demandas y limite inferior\n",
    "### Reduccion a circulacion con demanda\n",
    "Para resolver esto, se reduce a circulacion con demanda y esta luego a flujo maximo\n",
    "- Forzaremos que los ejes con limite tengan ese valor\n",
    "\n",
    "\n",
    "Llamemos **le** al limite inferior\n",
    "\n",
    "### Sea:\n",
    "**Lv** = Sumatoria(**le** que entran al nodo v) - Sumatoria(**le** que salen del nodo v)\n",
    "\n",
    "\n",
    "- Cada eje cambiara su capacidad de **Ce** a -> **Ce** - **le**\n",
    "- Cada nodo cambiara su demanda de **dv** a -> **dv** - **Lv**"
   ],
   "metadata": {
    "collapsed": false
   },
   "id": "503cf56dab969a7b"
  },
  {
   "cell_type": "code",
   "execution_count": 1,
   "id": "initial_id",
   "metadata": {
    "collapsed": true,
    "ExecuteTime": {
     "end_time": "2024-06-08T11:21:07.308278Z",
     "start_time": "2024-06-08T11:21:07.301604Z"
    }
   },
   "outputs": [],
   "source": [
    "from utils.DirectedGraph import DirectedGraph\n",
    "from redes_de_flujo import ford_fulkerson\n",
    "\n",
    "def demand_circulation_with_le_to_demand_circulation(graph):\n",
    "    for v in graph.vertices():\n",
    "        for u in graph.adjacents(v):\n",
    "            graph.weights[v][u] -= graph.le_value[u][v]\n",
    "            graph.value[u] -= graph.le_value[v]\n",
    "            graph.value[v] += graph.le_value[v]        "
   ]
  },
  {
   "cell_type": "code",
   "outputs": [],
   "source": [],
   "metadata": {
    "collapsed": false
   },
   "id": "22a6324302ca765e"
  }
 ],
 "metadata": {
  "kernelspec": {
   "display_name": "Python 3",
   "language": "python",
   "name": "python3"
  },
  "language_info": {
   "codemirror_mode": {
    "name": "ipython",
    "version": 2
   },
   "file_extension": ".py",
   "mimetype": "text/x-python",
   "name": "python",
   "nbconvert_exporter": "python",
   "pygments_lexer": "ipython2",
   "version": "2.7.6"
  }
 },
 "nbformat": 4,
 "nbformat_minor": 5
}
