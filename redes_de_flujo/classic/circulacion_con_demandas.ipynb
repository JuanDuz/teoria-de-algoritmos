{
 "cells": [
  {
   "cell_type": "markdown",
   "source": [
    "# Circulacion con demanda\n",
    "### Para reducir circulacion con demanda a problema de flujo maximo\n",
    "- Creo un vertice \"super fuente\" S*\n",
    "- Creo un vertice \"super sumidero\" t*\n",
    "- Para cada vertice v / su demanda (dv) > 0 -> Creo el eje e(v, T*) con C(e) = dv\n",
    "- Para cada vertice u / su demanda (du) < 0 -> Creo el eje e(S*, u) con C(e) = -du\n",
    "\n",
    "### Para validar si hay una circulacion con demanda posible\n",
    "Evaluo si la demanda es == al flujo maximo "
   ],
   "metadata": {
    "collapsed": false
   },
   "id": "68ab1858613145d5"
  },
  {
   "cell_type": "code",
   "execution_count": 1,
   "id": "initial_id",
   "metadata": {
    "collapsed": true,
    "ExecuteTime": {
     "end_time": "2024-06-08T10:59:16.423250Z",
     "start_time": "2024-06-08T10:59:16.415463Z"
    }
   },
   "outputs": [],
   "source": [
    "from redes_de_flujo.ford_fulkerson import ford_fulkerson\n",
    "from utils.DirectedGraph import DirectedGraph\n",
    "\n",
    "S = -1  #For the sake of having a value, graph should be using those numbers already\n",
    "T = -2\n",
    "\n",
    "# Supposing demand of each node is stored in node.value\n",
    "# Updates the graph and returns demand\n",
    "def demand_circulation_to_max_flow(graph):\n",
    "    demand = 0\n",
    "    for v in graph.vertices():\n",
    "        if v.value < 0:\n",
    "            graph.add_edge(S, v, -v.value)\n",
    "        elif v.value > 0:\n",
    "            demand += v.value\n",
    "            graph.add_edge(v, T, v.value)\n",
    "    return demand\n",
    "\n",
    "# Supposing demand of each node is stored in node.value\n",
    "def is_demand_circulation_possible(graph):\n",
    "     demand = demand_circulation_to_max_flow(graph) # updates graph\n",
    "     flow, max_flow = ford_fulkerson(graph, demand, S)\n",
    "     return max_flow == demand\n",
    "\n"
   ]
  },
  {
   "cell_type": "code",
   "outputs": [],
   "source": [],
   "metadata": {
    "collapsed": false
   },
   "id": "3baaf950aea11f85"
  }
 ],
 "metadata": {
  "kernelspec": {
   "display_name": "Python 3",
   "language": "python",
   "name": "python3"
  },
  "language_info": {
   "codemirror_mode": {
    "name": "ipython",
    "version": 2
   },
   "file_extension": ".py",
   "mimetype": "text/x-python",
   "name": "python",
   "nbconvert_exporter": "python",
   "pygments_lexer": "ipython2",
   "version": "2.7.6"
  }
 },
 "nbformat": 4,
 "nbformat_minor": 5
}
