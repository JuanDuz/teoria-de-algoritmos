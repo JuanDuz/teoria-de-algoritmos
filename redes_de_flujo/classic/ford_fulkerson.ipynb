{
 "cells": [
  {
   "cell_type": "markdown",
   "source": [],
   "metadata": {
    "collapsed": false
   },
   "id": "9124797d71b06363"
  },
  {
   "cell_type": "markdown",
   "source": [
    "# Ford fulkerson\n",
    "Grafo utilizado de ejemplo en minuto 52:53:\n",
    "https://www.youtube.com/watch?v=3REusB0-kbc&ab_channel=AlgoritmosFiubaCursoBuchwald\n"
   ],
   "metadata": {
    "collapsed": false
   },
   "id": "e2cc34835acd8480"
  },
  {
   "cell_type": "code",
   "execution_count": 6,
   "id": "initial_id",
   "metadata": {
    "collapsed": true,
    "ExecuteTime": {
     "end_time": "2024-06-08T10:57:58.413536Z",
     "start_time": "2024-06-08T10:57:58.294900Z"
    }
   },
   "outputs": [
    {
     "ename": "ValueError",
     "evalue": "too many values to unpack (expected 2)",
     "output_type": "error",
     "traceback": [
      "\u001B[0;31m---------------------------------------------------------------------------\u001B[0m",
      "\u001B[0;31mValueError\u001B[0m                                Traceback (most recent call last)",
      "Cell \u001B[0;32mIn[6], line 14\u001B[0m\n\u001B[1;32m     11\u001B[0m graph\u001B[38;5;241m.\u001B[39madd_edge(\u001B[38;5;241m3\u001B[39m, \u001B[38;5;241m5\u001B[39m, \u001B[38;5;241m19\u001B[39m)\n\u001B[1;32m     12\u001B[0m graph\u001B[38;5;241m.\u001B[39madd_edge(\u001B[38;5;241m4\u001B[39m, \u001B[38;5;241m5\u001B[39m, \u001B[38;5;241m4\u001B[39m)\n\u001B[0;32m---> 14\u001B[0m flow, max_flow \u001B[38;5;241m=\u001B[39m ford_fulkerson(graph, \u001B[38;5;241m0\u001B[39m, \u001B[38;5;241m5\u001B[39m)\n\u001B[1;32m     15\u001B[0m \u001B[38;5;28mprint\u001B[39m(flow, max_flow)\n",
      "\u001B[0;31mValueError\u001B[0m: too many values to unpack (expected 2)"
     ]
    }
   ],
   "source": [
    "from redes_de_flujo.ford_fulkerson import ford_fulkerson\n",
    "from utils.DirectedGraph import DirectedGraph\n",
    "\n",
    "graph = DirectedGraph()\n",
    "graph.add_edge(0, 1, 11)\n",
    "graph.add_edge(0, 2, 12)\n",
    "graph.add_edge(2, 1, 2)\n",
    "graph.add_edge(1, 3, 12)\n",
    "graph.add_edge(2, 4, 11)\n",
    "graph.add_edge(4, 3, 10)\n",
    "graph.add_edge(3, 5, 19)\n",
    "graph.add_edge(4, 5, 4)\n",
    "\n",
    "flow, max_flow = ford_fulkerson(graph, 0, 5)\n",
    "print(flow, max_flow)"
   ]
  },
  {
   "cell_type": "code",
   "outputs": [],
   "source": [],
   "metadata": {
    "collapsed": false
   },
   "id": "72a6c1cb03bbdb69"
  }
 ],
 "metadata": {
  "kernelspec": {
   "display_name": "Python 3",
   "language": "python",
   "name": "python3"
  },
  "language_info": {
   "codemirror_mode": {
    "name": "ipython",
    "version": 2
   },
   "file_extension": ".py",
   "mimetype": "text/x-python",
   "name": "python",
   "nbconvert_exporter": "python",
   "pygments_lexer": "ipython2",
   "version": "2.7.6"
  }
 },
 "nbformat": 4,
 "nbformat_minor": 5
}
